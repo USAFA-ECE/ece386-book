{
 "cells": [
  {
   "cell_type": "markdown",
   "id": "54090b40",
   "metadata": {},
   "source": [
    "# Final: LLM Prompt Checkpoint\n",
    "\n",
    "```{tip}\n",
    "This is a great time to use few-shot prompting.\n",
    "\n",
    "Structured outputs are probably overkill since we just want a string\n",
    "```\n",
    "\n",
    "1. Design a LLM system prompt for converting a sentence requesting weather into the format `wttr.in` needs.\n",
    "2. Design several test cases.\n",
    "3. Evaluate your prompt; iterate if necessary.\n",
    "4. Upload this completed notebook to Gradescope.\n"
   ]
  },
  {
   "cell_type": "code",
   "execution_count": null,
   "id": "679311f0",
   "metadata": {},
   "outputs": [],
   "source": [
    "%pip install -q ollama"
   ]
  },
  {
   "cell_type": "markdown",
   "id": "a4e4221a",
   "metadata": {},
   "source": [
    "## Template\n",
    "\n",
    "Complete this and submit to Gradescope."
   ]
  },
  {
   "cell_type": "markdown",
   "id": "df4be6a5",
   "metadata": {},
   "source": [
    "### LLM Setup and Prompt"
   ]
  },
  {
   "cell_type": "code",
   "execution_count": null,
   "id": "416b93ee",
   "metadata": {},
   "outputs": [],
   "source": [
    "\"\"\"This script evaluates an LLM prompt for processing text so that it can be used for the wttr.in API\"\"\"\n",
    "\n",
    "from ollama import Client\n",
    "\n",
    "LLM_MODEL: str = \"gemma3:1b\"  # Change this to be the model you want\n",
    "client: Client = Client(\n",
    "    host=\"http://localhost:11434\"  # Change this to be the URL of your LLM\n",
    ")\n",
    "\n",
    "# TODO: define llm_parse_for_wttr()"
   ]
  },
  {
   "cell_type": "markdown",
   "id": "4762c389",
   "metadata": {},
   "source": [
    "### Test cases and function"
   ]
  },
  {
   "cell_type": "code",
   "execution_count": null,
   "id": "bd8fb1e6",
   "metadata": {},
   "outputs": [],
   "source": [
    "# Test cases\n",
    "test_cases = [  # TODO: Replace these test cases with ones for wttr.in\n",
    "    {\"input\": \"What's the weather in Rio Rancho?\", \"expected\": \"Rio+Rancho\"},\n",
    "    {\"input\": \"another test....\", \"expected\": \"answer\"},\n",
    "    {\"input\": \"another test....\", \"expected\": \"answer\"},\n",
    "]"
   ]
  },
  {
   "cell_type": "code",
   "execution_count": null,
   "id": "8a19725f",
   "metadata": {},
   "outputs": [],
   "source": [
    "def run_tests(test_cases: list[dict[str, str]]):\n",
    "    \"\"\"run_tests iterates through a list of dictionaries,\n",
    "    runs them against an LLM, and reports the results.\"\"\"\n",
    "    num_passed = 0\n",
    "\n",
    "    for i, test in enumerate(test_cases, 1):\n",
    "        raw_input = test[\"input\"]\n",
    "        expected_output = test[\"expected\"]\n",
    "\n",
    "        print(f\"\\nTest {i}: {raw_input}\")\n",
    "        try:\n",
    "            result = llm_parse_for_wttr(raw_input).strip()\n",
    "            expected = expected_output.strip()\n",
    "\n",
    "            print(\"LLM Output  :\", result)\n",
    "            print(\"Expected    :\", expected)\n",
    "\n",
    "            if result == expected:\n",
    "                print(\"✅ PASS\")\n",
    "                num_passed += 1\n",
    "            else:\n",
    "                print(\"❌ FAIL\")\n",
    "\n",
    "        except Exception as e:\n",
    "            print(\"💥 ERROR:\", e)\n",
    "\n",
    "    print(f\"\\nSummary: {num_passed} / {len(test)} tests passed.\")"
   ]
  },
  {
   "cell_type": "markdown",
   "id": "3f53e030",
   "metadata": {},
   "source": [
    "### Execute tests"
   ]
  },
  {
   "cell_type": "code",
   "execution_count": null,
   "id": "61f14e58",
   "metadata": {},
   "outputs": [],
   "source": [
    "run_tests(test_cases=test_cases)"
   ]
  }
 ],
 "metadata": {
  "kernelspec": {
   "display_name": ".venv",
   "language": "python",
   "name": "python3"
  },
  "language_info": {
   "codemirror_mode": {
    "name": "ipython",
    "version": 3
   },
   "file_extension": ".py",
   "mimetype": "text/x-python",
   "name": "python",
   "nbconvert_exporter": "python",
   "pygments_lexer": "ipython3",
   "version": "3.12.3"
  }
 },
 "nbformat": 4,
 "nbformat_minor": 5
}
