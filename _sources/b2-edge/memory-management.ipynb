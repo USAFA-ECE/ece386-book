{
 "cells": [
  {
   "cell_type": "markdown",
   "metadata": {},
   "source": [
    "# Memory Management\n",
    "\n",
    "## Objectives\n",
    "\n",
    "### Pre-Reading\n",
    "\n",
    "Either watch [DDCArv Ch8 - Part 1: Memory System Introduction](https://www.youtube.com/watch?v=hOxto8az7pQ)\n",
    "or read [*DDCA* 8.1 Memory Systems Introduction](https://learning.oreilly.com/library/view/digital-design-and/9780128009116/xhtml/chp008.xhtml#st0010).\n",
    "(This link is to the ARM version, but if you have a copy of the RISC-V version, that will work too!)"
   ]
  }
 ],
 "metadata": {
  "language_info": {
   "name": "python"
  }
 },
 "nbformat": 4,
 "nbformat_minor": 2
}
